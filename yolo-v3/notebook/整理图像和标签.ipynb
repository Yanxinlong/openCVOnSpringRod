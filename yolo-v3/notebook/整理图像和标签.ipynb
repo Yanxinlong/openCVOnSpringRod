{
 "cells": [
  {
   "cell_type": "markdown",
   "metadata": {},
   "source": [
    "## 整理标签，方便训练"
   ]
  },
  {
   "cell_type": "code",
   "execution_count": 19,
   "metadata": {
    "collapsed": true
   },
   "outputs": [],
   "source": [
    "import glob\n",
    "import json\n",
    "import os\n",
    "import random\n",
    "import numpy as np\n",
    "import PIL.Image as Image\n",
    "\n",
    "import cv2\n",
    "import matplotlib.pyplot as plt"
   ]
  },
  {
   "cell_type": "code",
   "execution_count": 20,
   "metadata": {},
   "outputs": [],
   "source": [
    "img_path = \"../data_v2/images/\"\n",
    "label_path = \"../data_v2/labels/\"\n",
    "def get_image_names():\n",
    "    image_names = []\n",
    "    for item in glob.glob(label_path+\"*.txt\"):  \n",
    "        image_name = os.path.split(item)[1]         \n",
    "        image_name = image_name.split(\".\")[0]\n",
    "        image_names.append(image_name)\n",
    "    return image_names\n",
    "        \n",
    "image_names = get_image_names()"
   ]
  },
  {
   "cell_type": "code",
   "execution_count": 21,
   "metadata": {},
   "outputs": [],
   "source": [
    "def cut_data(image_names):\n",
    "    for item in glob.glob(img_path+\"*.jpeg\"):\n",
    "        label_name = os.path.split(item)[1]         \n",
    "        label_name = label_name.split(\".\")[0]\n",
    "        if label_name not in image_names:\n",
    "            os.remove(item)\n",
    "            \n",
    "cut_data(image_names)"
   ]
  }
 ],
 "metadata": {
  "kernelspec": {
   "display_name": "AI",
   "language": "python",
   "name": "ai"
  },
  "language_info": {
   "codemirror_mode": {
    "name": "ipython",
    "version": 3
   },
   "file_extension": ".py",
   "mimetype": "text/x-python",
   "name": "python",
   "nbconvert_exporter": "python",
   "pygments_lexer": "ipython3",
   "version": "3.6.7"
  }
 },
 "nbformat": 4,
 "nbformat_minor": 2
}
